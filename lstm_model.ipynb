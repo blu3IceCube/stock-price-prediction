{
 "cells": [
  {
   "cell_type": "code",
   "execution_count": 1,
   "id": "a3068c7e-f01f-4a66-810d-1a1ca43d2ea3",
   "metadata": {},
   "outputs": [],
   "source": [
    "import numpy as np\n",
    "import pandas as pd\n",
    "import matplotlib.pyplot as plt\n",
    "import yfinance as yf\n",
    "yf.pdr_override()\n",
    "from pandas_datareader import data as pdr\n",
    "import datetime"
   ]
  },
  {
   "cell_type": "code",
   "execution_count": 2,
   "id": "510a00dd-942e-49aa-8ea3-3bc984db4b8e",
   "metadata": {},
   "outputs": [],
   "source": [
    "start = '1990-01-01'"
   ]
  },
  {
   "cell_type": "code",
   "execution_count": 3,
   "id": "b657739f-105c-4b16-bf62-90b5c4474a90",
   "metadata": {},
   "outputs": [],
   "source": [
    "end = '2020-12-31'"
   ]
  },
  {
   "cell_type": "code",
   "execution_count": 4,
   "id": "44f2a631-5f93-48a5-ba15-2016905cdaf1",
   "metadata": {},
   "outputs": [
    {
     "name": "stdout",
     "output_type": "stream",
     "text": [
      "[*********************100%***********************]  1 of 1 completed\n"
     ]
    }
   ],
   "source": [
    "df = pdr.get_data_yahoo('AAPL', start, end)"
   ]
  },
  {
   "cell_type": "code",
   "execution_count": 5,
   "id": "6cefae15-3b19-4a3b-b6a1-a5c1015fa92c",
   "metadata": {},
   "outputs": [
    {
     "data": {
      "text/html": [
       "<div>\n",
       "<style scoped>\n",
       "    .dataframe tbody tr th:only-of-type {\n",
       "        vertical-align: middle;\n",
       "    }\n",
       "\n",
       "    .dataframe tbody tr th {\n",
       "        vertical-align: top;\n",
       "    }\n",
       "\n",
       "    .dataframe thead th {\n",
       "        text-align: right;\n",
       "    }\n",
       "</style>\n",
       "<table border=\"1\" class=\"dataframe\">\n",
       "  <thead>\n",
       "    <tr style=\"text-align: right;\">\n",
       "      <th></th>\n",
       "      <th>Open</th>\n",
       "      <th>High</th>\n",
       "      <th>Low</th>\n",
       "      <th>Close</th>\n",
       "      <th>Adj Close</th>\n",
       "      <th>Volume</th>\n",
       "    </tr>\n",
       "    <tr>\n",
       "      <th>Date</th>\n",
       "      <th></th>\n",
       "      <th></th>\n",
       "      <th></th>\n",
       "      <th></th>\n",
       "      <th></th>\n",
       "      <th></th>\n",
       "    </tr>\n",
       "  </thead>\n",
       "  <tbody>\n",
       "    <tr>\n",
       "      <th>1990-01-02</th>\n",
       "      <td>0.314732</td>\n",
       "      <td>0.334821</td>\n",
       "      <td>0.312500</td>\n",
       "      <td>0.332589</td>\n",
       "      <td>0.264117</td>\n",
       "      <td>183198400</td>\n",
       "    </tr>\n",
       "    <tr>\n",
       "      <th>1990-01-03</th>\n",
       "      <td>0.339286</td>\n",
       "      <td>0.339286</td>\n",
       "      <td>0.334821</td>\n",
       "      <td>0.334821</td>\n",
       "      <td>0.265889</td>\n",
       "      <td>207995200</td>\n",
       "    </tr>\n",
       "    <tr>\n",
       "      <th>1990-01-04</th>\n",
       "      <td>0.341518</td>\n",
       "      <td>0.345982</td>\n",
       "      <td>0.332589</td>\n",
       "      <td>0.335938</td>\n",
       "      <td>0.266776</td>\n",
       "      <td>221513600</td>\n",
       "    </tr>\n",
       "    <tr>\n",
       "      <th>1990-01-05</th>\n",
       "      <td>0.337054</td>\n",
       "      <td>0.341518</td>\n",
       "      <td>0.330357</td>\n",
       "      <td>0.337054</td>\n",
       "      <td>0.267662</td>\n",
       "      <td>123312000</td>\n",
       "    </tr>\n",
       "    <tr>\n",
       "      <th>1990-01-08</th>\n",
       "      <td>0.334821</td>\n",
       "      <td>0.339286</td>\n",
       "      <td>0.330357</td>\n",
       "      <td>0.339286</td>\n",
       "      <td>0.269435</td>\n",
       "      <td>101572800</td>\n",
       "    </tr>\n",
       "  </tbody>\n",
       "</table>\n",
       "</div>"
      ],
      "text/plain": [
       "                Open      High       Low     Close  Adj Close     Volume\n",
       "Date                                                                    \n",
       "1990-01-02  0.314732  0.334821  0.312500  0.332589   0.264117  183198400\n",
       "1990-01-03  0.339286  0.339286  0.334821  0.334821   0.265889  207995200\n",
       "1990-01-04  0.341518  0.345982  0.332589  0.335938   0.266776  221513600\n",
       "1990-01-05  0.337054  0.341518  0.330357  0.337054   0.267662  123312000\n",
       "1990-01-08  0.334821  0.339286  0.330357  0.339286   0.269435  101572800"
      ]
     },
     "execution_count": 5,
     "metadata": {},
     "output_type": "execute_result"
    }
   ],
   "source": [
    "df.head()"
   ]
  },
  {
   "cell_type": "code",
   "execution_count": 6,
   "id": "cc4a4305-cb6e-47fa-92ca-c2dc9bbec17c",
   "metadata": {},
   "outputs": [
    {
     "data": {
      "text/html": [
       "<div>\n",
       "<style scoped>\n",
       "    .dataframe tbody tr th:only-of-type {\n",
       "        vertical-align: middle;\n",
       "    }\n",
       "\n",
       "    .dataframe tbody tr th {\n",
       "        vertical-align: top;\n",
       "    }\n",
       "\n",
       "    .dataframe thead th {\n",
       "        text-align: right;\n",
       "    }\n",
       "</style>\n",
       "<table border=\"1\" class=\"dataframe\">\n",
       "  <thead>\n",
       "    <tr style=\"text-align: right;\">\n",
       "      <th></th>\n",
       "      <th>Date</th>\n",
       "      <th>Open</th>\n",
       "      <th>High</th>\n",
       "      <th>Low</th>\n",
       "      <th>Close</th>\n",
       "      <th>Adj Close</th>\n",
       "      <th>Volume</th>\n",
       "    </tr>\n",
       "  </thead>\n",
       "  <tbody>\n",
       "    <tr>\n",
       "      <th>0</th>\n",
       "      <td>1990-01-02</td>\n",
       "      <td>0.314732</td>\n",
       "      <td>0.334821</td>\n",
       "      <td>0.312500</td>\n",
       "      <td>0.332589</td>\n",
       "      <td>0.264117</td>\n",
       "      <td>183198400</td>\n",
       "    </tr>\n",
       "    <tr>\n",
       "      <th>1</th>\n",
       "      <td>1990-01-03</td>\n",
       "      <td>0.339286</td>\n",
       "      <td>0.339286</td>\n",
       "      <td>0.334821</td>\n",
       "      <td>0.334821</td>\n",
       "      <td>0.265889</td>\n",
       "      <td>207995200</td>\n",
       "    </tr>\n",
       "    <tr>\n",
       "      <th>2</th>\n",
       "      <td>1990-01-04</td>\n",
       "      <td>0.341518</td>\n",
       "      <td>0.345982</td>\n",
       "      <td>0.332589</td>\n",
       "      <td>0.335938</td>\n",
       "      <td>0.266776</td>\n",
       "      <td>221513600</td>\n",
       "    </tr>\n",
       "    <tr>\n",
       "      <th>3</th>\n",
       "      <td>1990-01-05</td>\n",
       "      <td>0.337054</td>\n",
       "      <td>0.341518</td>\n",
       "      <td>0.330357</td>\n",
       "      <td>0.337054</td>\n",
       "      <td>0.267662</td>\n",
       "      <td>123312000</td>\n",
       "    </tr>\n",
       "    <tr>\n",
       "      <th>4</th>\n",
       "      <td>1990-01-08</td>\n",
       "      <td>0.334821</td>\n",
       "      <td>0.339286</td>\n",
       "      <td>0.330357</td>\n",
       "      <td>0.339286</td>\n",
       "      <td>0.269435</td>\n",
       "      <td>101572800</td>\n",
       "    </tr>\n",
       "  </tbody>\n",
       "</table>\n",
       "</div>"
      ],
      "text/plain": [
       "        Date      Open      High       Low     Close  Adj Close     Volume\n",
       "0 1990-01-02  0.314732  0.334821  0.312500  0.332589   0.264117  183198400\n",
       "1 1990-01-03  0.339286  0.339286  0.334821  0.334821   0.265889  207995200\n",
       "2 1990-01-04  0.341518  0.345982  0.332589  0.335938   0.266776  221513600\n",
       "3 1990-01-05  0.337054  0.341518  0.330357  0.337054   0.267662  123312000\n",
       "4 1990-01-08  0.334821  0.339286  0.330357  0.339286   0.269435  101572800"
      ]
     },
     "execution_count": 6,
     "metadata": {},
     "output_type": "execute_result"
    }
   ],
   "source": [
    "df = df.reset_index()\n",
    "df.head()"
   ]
  },
  {
   "cell_type": "code",
   "execution_count": 7,
   "id": "8ee28e91-2583-4134-b558-4fed88145b14",
   "metadata": {},
   "outputs": [
    {
     "data": {
      "text/html": [
       "<div>\n",
       "<style scoped>\n",
       "    .dataframe tbody tr th:only-of-type {\n",
       "        vertical-align: middle;\n",
       "    }\n",
       "\n",
       "    .dataframe tbody tr th {\n",
       "        vertical-align: top;\n",
       "    }\n",
       "\n",
       "    .dataframe thead th {\n",
       "        text-align: right;\n",
       "    }\n",
       "</style>\n",
       "<table border=\"1\" class=\"dataframe\">\n",
       "  <thead>\n",
       "    <tr style=\"text-align: right;\">\n",
       "      <th></th>\n",
       "      <th>Open</th>\n",
       "      <th>High</th>\n",
       "      <th>Low</th>\n",
       "      <th>Close</th>\n",
       "      <th>Volume</th>\n",
       "    </tr>\n",
       "  </thead>\n",
       "  <tbody>\n",
       "    <tr>\n",
       "      <th>0</th>\n",
       "      <td>0.314732</td>\n",
       "      <td>0.334821</td>\n",
       "      <td>0.312500</td>\n",
       "      <td>0.332589</td>\n",
       "      <td>183198400</td>\n",
       "    </tr>\n",
       "    <tr>\n",
       "      <th>1</th>\n",
       "      <td>0.339286</td>\n",
       "      <td>0.339286</td>\n",
       "      <td>0.334821</td>\n",
       "      <td>0.334821</td>\n",
       "      <td>207995200</td>\n",
       "    </tr>\n",
       "    <tr>\n",
       "      <th>2</th>\n",
       "      <td>0.341518</td>\n",
       "      <td>0.345982</td>\n",
       "      <td>0.332589</td>\n",
       "      <td>0.335938</td>\n",
       "      <td>221513600</td>\n",
       "    </tr>\n",
       "    <tr>\n",
       "      <th>3</th>\n",
       "      <td>0.337054</td>\n",
       "      <td>0.341518</td>\n",
       "      <td>0.330357</td>\n",
       "      <td>0.337054</td>\n",
       "      <td>123312000</td>\n",
       "    </tr>\n",
       "    <tr>\n",
       "      <th>4</th>\n",
       "      <td>0.334821</td>\n",
       "      <td>0.339286</td>\n",
       "      <td>0.330357</td>\n",
       "      <td>0.339286</td>\n",
       "      <td>101572800</td>\n",
       "    </tr>\n",
       "  </tbody>\n",
       "</table>\n",
       "</div>"
      ],
      "text/plain": [
       "       Open      High       Low     Close     Volume\n",
       "0  0.314732  0.334821  0.312500  0.332589  183198400\n",
       "1  0.339286  0.339286  0.334821  0.334821  207995200\n",
       "2  0.341518  0.345982  0.332589  0.335938  221513600\n",
       "3  0.337054  0.341518  0.330357  0.337054  123312000\n",
       "4  0.334821  0.339286  0.330357  0.339286  101572800"
      ]
     },
     "execution_count": 7,
     "metadata": {},
     "output_type": "execute_result"
    }
   ],
   "source": [
    "df = df.drop(['Date', 'Adj Close'], axis = 1)\n",
    "df.head()"
   ]
  },
  {
   "cell_type": "code",
   "execution_count": 8,
   "id": "a26215e9-d5ad-4999-a446-b052f030c436",
   "metadata": {},
   "outputs": [
    {
     "data": {
      "text/plain": [
       "[<matplotlib.lines.Line2D at 0x16b0fee2c50>]"
      ]
     },
     "execution_count": 8,
     "metadata": {},
     "output_type": "execute_result"
    },
    {
     "data": {
      "image/png": "[encoded data removed]",
      "text/plain": [
       "<Figure size 640x480 with 1 Axes>"
      ]
     },
     "metadata": {},
     "output_type": "display_data"
    }
   ],
   "source": [
    "plt.plot(df.Close)"
   ]
  },
  {
   "cell_type": "code",
   "execution_count": 9,
   "id": "af32c285-90d1-4342-8ace-1a1a6b0e4a73",
   "metadata": {},
   "outputs": [
    {
     "data": {
      "text/html": [
       "<div>\n",
       "<style scoped>\n",
       "    .dataframe tbody tr th:only-of-type {\n",
       "        vertical-align: middle;\n",
       "    }\n",
       "\n",
       "    .dataframe tbody tr th {\n",
       "        vertical-align: top;\n",
       "    }\n",
       "\n",
       "    .dataframe thead th {\n",
       "        text-align: right;\n",
       "    }\n",
       "</style>\n",
       "<table border=\"1\" class=\"dataframe\">\n",
       "  <thead>\n",
       "    <tr style=\"text-align: right;\">\n",
       "      <th></th>\n",
       "      <th>Open</th>\n",
       "      <th>High</th>\n",
       "      <th>Low</th>\n",
       "      <th>Close</th>\n",
       "      <th>Volume</th>\n",
       "    </tr>\n",
       "  </thead>\n",
       "  <tbody>\n",
       "    <tr>\n",
       "      <th>0</th>\n",
       "      <td>0.314732</td>\n",
       "      <td>0.334821</td>\n",
       "      <td>0.312500</td>\n",
       "      <td>0.332589</td>\n",
       "      <td>183198400</td>\n",
       "    </tr>\n",
       "    <tr>\n",
       "      <th>1</th>\n",
       "      <td>0.339286</td>\n",
       "      <td>0.339286</td>\n",
       "      <td>0.334821</td>\n",
       "      <td>0.334821</td>\n",
       "      <td>207995200</td>\n",
       "    </tr>\n",
       "    <tr>\n",
       "      <th>2</th>\n",
       "      <td>0.341518</td>\n",
       "      <td>0.345982</td>\n",
       "      <td>0.332589</td>\n",
       "      <td>0.335938</td>\n",
       "      <td>221513600</td>\n",
       "    </tr>\n",
       "    <tr>\n",
       "      <th>3</th>\n",
       "      <td>0.337054</td>\n",
       "      <td>0.341518</td>\n",
       "      <td>0.330357</td>\n",
       "      <td>0.337054</td>\n",
       "      <td>123312000</td>\n",
       "    </tr>\n",
       "    <tr>\n",
       "      <th>4</th>\n",
       "      <td>0.334821</td>\n",
       "      <td>0.339286</td>\n",
       "      <td>0.330357</td>\n",
       "      <td>0.339286</td>\n",
       "      <td>101572800</td>\n",
       "    </tr>\n",
       "    <tr>\n",
       "      <th>...</th>\n",
       "      <td>...</td>\n",
       "      <td>...</td>\n",
       "      <td>...</td>\n",
       "      <td>...</td>\n",
       "      <td>...</td>\n",
       "    </tr>\n",
       "    <tr>\n",
       "      <th>7806</th>\n",
       "      <td>132.160004</td>\n",
       "      <td>132.429993</td>\n",
       "      <td>130.779999</td>\n",
       "      <td>130.960007</td>\n",
       "      <td>88223700</td>\n",
       "    </tr>\n",
       "    <tr>\n",
       "      <th>7807</th>\n",
       "      <td>131.320007</td>\n",
       "      <td>133.460007</td>\n",
       "      <td>131.100006</td>\n",
       "      <td>131.970001</td>\n",
       "      <td>54930100</td>\n",
       "    </tr>\n",
       "    <tr>\n",
       "      <th>7808</th>\n",
       "      <td>133.990005</td>\n",
       "      <td>137.339996</td>\n",
       "      <td>133.509995</td>\n",
       "      <td>136.690002</td>\n",
       "      <td>124486200</td>\n",
       "    </tr>\n",
       "    <tr>\n",
       "      <th>7809</th>\n",
       "      <td>138.050003</td>\n",
       "      <td>138.789993</td>\n",
       "      <td>134.339996</td>\n",
       "      <td>134.869995</td>\n",
       "      <td>121047300</td>\n",
       "    </tr>\n",
       "    <tr>\n",
       "      <th>7810</th>\n",
       "      <td>135.580002</td>\n",
       "      <td>135.990005</td>\n",
       "      <td>133.399994</td>\n",
       "      <td>133.720001</td>\n",
       "      <td>96452100</td>\n",
       "    </tr>\n",
       "  </tbody>\n",
       "</table>\n",
       "<p>7811 rows × 5 columns</p>\n",
       "</div>"
      ],
      "text/plain": [
       "            Open        High         Low       Close     Volume\n",
       "0       0.314732    0.334821    0.312500    0.332589  183198400\n",
       "1       0.339286    0.339286    0.334821    0.334821  207995200\n",
       "2       0.341518    0.345982    0.332589    0.335938  221513600\n",
       "3       0.337054    0.341518    0.330357    0.337054  123312000\n",
       "4       0.334821    0.339286    0.330357    0.339286  101572800\n",
       "...          ...         ...         ...         ...        ...\n",
       "7806  132.160004  132.429993  130.779999  130.960007   88223700\n",
       "7807  131.320007  133.460007  131.100006  131.970001   54930100\n",
       "7808  133.990005  137.339996  133.509995  136.690002  124486200\n",
       "7809  138.050003  138.789993  134.339996  134.869995  121047300\n",
       "7810  135.580002  135.990005  133.399994  133.720001   96452100\n",
       "\n",
       "[7811 rows x 5 columns]"
      ]
     },
     "execution_count": 9,
     "metadata": {},
     "output_type": "execute_result"
    }
   ],
   "source": [
    "df"
   ]
  },
  {
   "cell_type": "code",
   "execution_count": 10,
   "id": "cd249a15-6de6-4f40-a577-4114181f6287",
   "metadata": {},
   "outputs": [
    {
     "data": {
      "text/plain": [
       "0              NaN\n",
       "1              NaN\n",
       "2              NaN\n",
       "3              NaN\n",
       "4              NaN\n",
       "           ...    \n",
       "7806    118.000475\n",
       "7807    118.223525\n",
       "7808    118.489800\n",
       "7809    118.699475\n",
       "7810    118.925550\n",
       "Name: Close, Length: 7811, dtype: float64"
      ]
     },
     "execution_count": 10,
     "metadata": {},
     "output_type": "execute_result"
    }
   ],
   "source": [
    "ma100 = df.Close.rolling(100).mean()\n",
    "ma100"
   ]
  },
  {
   "cell_type": "code",
   "execution_count": 11,
   "id": "10761898-fb05-4b63-8dd8-a07c37804fb9",
   "metadata": {},
   "outputs": [
    {
     "data": {
      "text/plain": [
       "[<matplotlib.lines.Line2D at 0x16b0fffd490>]"
      ]
     },
     "execution_count": 11,
     "metadata": {},
     "output_type": "execute_result"
    },
    {
     "data": {
      "image/png": "[encoded data removed]",
      "text/plain": [
       "<Figure size 1200x600 with 1 Axes>"
      ]
     },
     "metadata": {},
     "output_type": "display_data"
    }
   ],
   "source": [
    "plt.figure(figsize = (12,6))\n",
    "plt.plot(df.Close)\n",
    "plt.plot(ma100, 'r')"
   ]
  },
  {
   "cell_type": "code",
   "execution_count": 12,
   "id": "08f2b84a-2205-4e54-a2cd-dc9d34084e3f",
   "metadata": {},
   "outputs": [
    {
     "data": {
      "text/plain": [
       "0              NaN\n",
       "1              NaN\n",
       "2              NaN\n",
       "3              NaN\n",
       "4              NaN\n",
       "           ...    \n",
       "7806     98.809175\n",
       "7807     99.158737\n",
       "7808     99.494725\n",
       "7809     99.866312\n",
       "7810    100.218837\n",
       "Name: Close, Length: 7811, dtype: float64"
      ]
     },
     "execution_count": 12,
     "metadata": {},
     "output_type": "execute_result"
    }
   ],
   "source": [
    "ma200 = df.Close.rolling(200).mean()\n",
    "ma200"
   ]
  },
  {
   "cell_type": "code",
   "execution_count": 13,
   "id": "75c191c2-87f2-4ee7-91ae-64c9656842b5",
   "metadata": {},
   "outputs": [
    {
     "data": {
      "text/plain": [
       "[<matplotlib.lines.Line2D at 0x16b0ff4ea10>]"
      ]
     },
     "execution_count": 13,
     "metadata": {},
     "output_type": "execute_result"
    },
    {
     "data": {
      "image/png": "[encoded data removed]",
      "text/plain": [
       "<Figure size 1200x600 with 1 Axes>"
      ]
     },
     "metadata": {},
     "output_type": "display_data"
    }
   ],
   "source": [
    "plt.figure(figsize = (12,6))\n",
    "plt.plot(df.Close)\n",
    "plt.plot(ma100, 'r')\n",
    "plt.plot(ma200, 'g')"
   ]
  },
  {
   "cell_type": "code",
   "execution_count": 14,
   "id": "ca4fe7af-8841-4751-bb22-21a7353b33c0",
   "metadata": {},
   "outputs": [
    {
     "name": "stdout",
     "output_type": "stream",
     "text": [
      "(5858, 1)\n",
      "(1953, 1)\n"
     ]
    }
   ],
   "source": [
    "# Splitting data into testing and training\n",
    "\n",
    "data_training = pd.DataFrame(df['Close'][0:int(len(df)*0.75)])\n",
    "data_testing = pd.DataFrame(df['Close'][int(len(df)*0.75):int(len(df))])\n",
    "\n",
    "print(data_training.shape)\n",
    "print(data_testing.shape)"
   ]
  },
  {
   "cell_type": "code",
   "execution_count": 15,
   "id": "2f3ca40e-0347-4024-bf58-8f2c4cbe5d91",
   "metadata": {},
   "outputs": [
    {
     "data": {
      "text/plain": [
       "(7811, 5)"
      ]
     },
     "execution_count": 15,
     "metadata": {},
     "output_type": "execute_result"
    }
   ],
   "source": [
    "df.shape"
   ]
  },
  {
   "cell_type": "code",
   "execution_count": 17,
   "id": "826581cd-a9bd-4dce-b04d-c15e505ee84d",
   "metadata": {},
   "outputs": [],
   "source": [
    "from sklearn.preprocessing import MinMaxScaler\n",
    "scaler = MinMaxScaler(feature_range=(0,1))"
   ]
  },
  {
   "cell_type": "code",
   "execution_count": 18,
   "id": "fc527416-5698-49f1-be09-05c79341defd",
   "metadata": {},
   "outputs": [
    {
     "data": {
      "text/plain": [
       "array([[0.00869713],\n",
       "       [0.00878656],\n",
       "       [0.00883131],\n",
       "       ...,\n",
       "       [0.64224879],\n",
       "       [0.62876984],\n",
       "       [0.60909509]])"
      ]
     },
     "execution_count": 18,
     "metadata": {},
     "output_type": "execute_result"
    }
   ],
   "source": [
    "data_training_array = scaler.fit_transform(data_training)\n",
    "data_training_array"
   ]
  },
  {
   "cell_type": "code",
   "execution_count": 19,
   "id": "a4feedda-903e-4d47-be2b-689682ff2a46",
   "metadata": {},
   "outputs": [],
   "source": [
    "x_train = []\n",
    "y_train = []\n",
    "\n",
    "for i in range(100, data_training_array.shape[0]):\n",
    "    x_train.append(data_training_array[i-100:i])\n",
    "    y_train.append(data_training_array[i, 0])\n",
    "\n",
    "x_train, y_train = np.array(x_train), np.array(y_train)"
   ]
  },
  {
   "cell_type": "code",
   "execution_count": 20,
   "id": "6c9d0706-13da-43ab-b7ca-2536dd26928c",
   "metadata": {},
   "outputs": [],
   "source": [
    "# ML Model\n",
    "\n",
    "from keras.layers import Dense, Dropout, LSTM\n",
    "from keras.models import Sequential"
   ]
  },
  {
   "cell_type": "code",
   "execution_count": 21,
   "id": "a8a81bd4-bbe6-4ee4-9a86-23c1a28457d8",
   "metadata": {},
   "outputs": [],
   "source": [
    "model = Sequential()\n",
    "model.add(LSTM(units = 50, activation = 'relu', return_sequences = True, input_shape = (x_train.shape[1], 1)))\n",
    "model.add(Dropout(0.2))\n",
    "\n",
    "model.add(LSTM(units = 60, activation = 'relu', return_sequences = True))\n",
    "model.add(Dropout(0.3))\n",
    "\n",
    "model.add(LSTM(units = 80, activation = 'relu', return_sequences = True))\n",
    "model.add(Dropout(0.4))\n",
    "\n",
    "model.add(LSTM(units = 120, activation = 'relu'))\n",
    "model.add(Dropout(0.5))\n",
    "\n",
    "model.add(Dense(units = 1))"
   ]
  },
  {
   "cell_type": "code",
   "execution_count": 22,
   "id": "e4501763-1722-42b8-8464-122591b3b562",
   "metadata": {},
   "outputs": [
    {
     "name": "stdout",
     "output_type": "stream",
     "text": [
      "Model: \"sequential\"\n",
      "_________________________________________________________________\n",
      " Layer (type)                Output Shape              Param #   \n",
      "=================================================================\n",
      " lstm (LSTM)                 (None, 100, 50)           10400     \n",
      "                                                                 \n",
      " dropout (Dropout)           (None, 100, 50)           0         \n",
      "                                                                 \n",
      " lstm_1 (LSTM)               (None, 100, 60)           26640     \n",
      "                                                                 \n",
      " dropout_1 (Dropout)         (None, 100, 60)           0         \n",
      "                                                                 \n",
      " lstm_2 (LSTM)               (None, 100, 80)           45120     \n",
      "                                                                 \n",
      " dropout_2 (Dropout)         (None, 100, 80)           0         \n",
      "                                                                 \n",
      " lstm_3 (LSTM)               (None, 120)               96480     \n",
      "                                                                 \n",
      " dropout_3 (Dropout)         (None, 120)               0         \n",
      "                                                                 \n",
      " dense (Dense)               (None, 1)                 121       \n",
      "                                                                 \n",
      "=================================================================\n",
      "Total params: 178,761\n",
      "Trainable params: 178,761\n",
      "Non-trainable params: 0\n",
      "_________________________________________________________________\n"
     ]
    }
   ],
   "source": [
    "model.summary()"
   ]
  },
  {
   "cell_type": "code",
   "execution_count": 40,
   "id": "0c476223-fadb-4db3-84f1-f93727f2ee64",
   "metadata": {},
   "outputs": [
    {
     "name": "stdout",
     "output_type": "stream",
     "text": [
      "Epoch 1/50\n",
      "180/180 [==============================] - 73s 297ms/step - loss: 0.0057\n",
      "Epoch 2/50\n",
      "180/180 [==============================] - 53s 294ms/step - loss: 0.0024\n",
      "Epoch 3/50\n",
      "180/180 [==============================] - 47s 263ms/step - loss: 0.0018\n",
      "Epoch 4/50\n",
      "180/180 [==============================] - 51s 281ms/step - loss: 0.0018\n",
      "Epoch 5/50\n",
      "180/180 [==============================] - 47s 262ms/step - loss: 0.0018\n",
      "Epoch 6/50\n",
      "180/180 [==============================] - 50s 281ms/step - loss: 0.0018\n",
      "Epoch 7/50\n",
      "180/180 [==============================] - 52s 289ms/step - loss: 0.0017\n",
      "Epoch 8/50\n",
      "180/180 [==============================] - 53s 293ms/step - loss: 0.0014\n",
      "Epoch 9/50\n",
      "180/180 [==============================] - 52s 290ms/step - loss: 0.0016\n",
      "Epoch 10/50\n",
      "180/180 [==============================] - 53s 293ms/step - loss: 0.0014\n",
      "Epoch 11/50\n",
      "180/180 [==============================] - 53s 294ms/step - loss: 0.0013\n",
      "Epoch 12/50\n",
      "180/180 [==============================] - 52s 289ms/step - loss: 0.0015\n",
      "Epoch 13/50\n",
      "180/180 [==============================] - 54s 300ms/step - loss: 0.0013\n",
      "Epoch 14/50\n",
      "180/180 [==============================] - 52s 291ms/step - loss: 0.0013\n",
      "Epoch 15/50\n",
      "180/180 [==============================] - 53s 295ms/step - loss: 0.0016\n",
      "Epoch 16/50\n",
      "180/180 [==============================] - 52s 291ms/step - loss: 0.0013\n",
      "Epoch 17/50\n",
      "180/180 [==============================] - 54s 298ms/step - loss: 0.0012\n",
      "Epoch 18/50\n",
      "180/180 [==============================] - 53s 293ms/step - loss: 0.0014\n",
      "Epoch 19/50\n",
      "180/180 [==============================] - 49s 271ms/step - loss: 0.0013\n",
      "Epoch 20/50\n",
      "180/180 [==============================] - 48s 264ms/step - loss: 0.0012\n",
      "Epoch 21/50\n",
      "180/180 [==============================] - 51s 283ms/step - loss: 0.0011\n",
      "Epoch 22/50\n",
      "180/180 [==============================] - 50s 279ms/step - loss: 0.0012\n",
      "Epoch 23/50\n",
      "180/180 [==============================] - 50s 276ms/step - loss: 0.0014\n",
      "Epoch 24/50\n",
      "180/180 [==============================] - 51s 283ms/step - loss: 0.0011\n",
      "Epoch 25/50\n",
      "180/180 [==============================] - 50s 276ms/step - loss: 0.0012\n",
      "Epoch 26/50\n",
      "180/180 [==============================] - 50s 280ms/step - loss: 0.0013\n",
      "Epoch 27/50\n",
      "180/180 [==============================] - 51s 282ms/step - loss: 0.0011\n",
      "Epoch 28/50\n",
      "180/180 [==============================] - 50s 278ms/step - loss: 0.0011\n",
      "Epoch 29/50\n",
      "180/180 [==============================] - 52s 288ms/step - loss: 0.0012\n",
      "Epoch 30/50\n",
      "180/180 [==============================] - 51s 283ms/step - loss: 0.0011\n",
      "Epoch 31/50\n",
      "180/180 [==============================] - 51s 283ms/step - loss: 0.0011\n",
      "Epoch 32/50\n",
      "180/180 [==============================] - 52s 287ms/step - loss: 0.0012\n",
      "Epoch 33/50\n",
      "180/180 [==============================] - 56s 309ms/step - loss: 0.0012\n",
      "Epoch 34/50\n",
      "180/180 [==============================] - 65s 359ms/step - loss: 0.0012\n",
      "Epoch 35/50\n",
      "180/180 [==============================] - 64s 357ms/step - loss: 0.0012\n",
      "Epoch 36/50\n",
      "180/180 [==============================] - 64s 355ms/step - loss: 0.0011\n",
      "Epoch 37/50\n",
      "180/180 [==============================] - 64s 353ms/step - loss: 0.0011\n",
      "Epoch 38/50\n",
      "180/180 [==============================] - 66s 367ms/step - loss: 0.0010\n",
      "Epoch 39/50\n",
      "180/180 [==============================] - 66s 366ms/step - loss: 0.0011\n",
      "Epoch 40/50\n",
      "180/180 [==============================] - 65s 359ms/step - loss: 0.0012\n",
      "Epoch 41/50\n",
      "180/180 [==============================] - 70s 388ms/step - loss: 0.0011\n",
      "Epoch 42/50\n",
      "180/180 [==============================] - 70s 391ms/step - loss: 0.0012\n",
      "Epoch 43/50\n",
      "180/180 [==============================] - 72s 400ms/step - loss: 0.0011\n",
      "Epoch 44/50\n",
      "180/180 [==============================] - 70s 388ms/step - loss: 9.3589e-04\n",
      "Epoch 45/50\n",
      "180/180 [==============================] - 69s 382ms/step - loss: 0.0011\n",
      "Epoch 46/50\n",
      "180/180 [==============================] - 55s 306ms/step - loss: 0.0011\n",
      "Epoch 47/50\n",
      "180/180 [==============================] - 55s 305ms/step - loss: 0.0011\n",
      "Epoch 48/50\n",
      "180/180 [==============================] - 54s 300ms/step - loss: 0.0011\n",
      "Epoch 49/50\n",
      "180/180 [==============================] - 54s 301ms/step - loss: 0.0011\n",
      "Epoch 50/50\n",
      "180/180 [==============================] - 55s 307ms/step - loss: 0.0011\n"
     ]
    },
    {
     "data": {
      "text/plain": [
       "<keras.callbacks.History at 0x16b2e4a19d0>"
      ]
     },
     "execution_count": 40,
     "metadata": {},
     "output_type": "execute_result"
    }
   ],
   "source": [
    "model.compile(optimizer = 'adam', loss = 'mean_squared_error')\n",
    "model.fit(x_train, y_train, epochs = 50)"
   ]
  },
  {
   "cell_type": "code",
   "execution_count": 41,
   "id": "0c70e14c-1a0a-4509-9636-1e6b7992f867",
   "metadata": {},
   "outputs": [],
   "source": [
    "model.save('keras_model.h5')"
   ]
  },
  {
   "cell_type": "code",
   "execution_count": 42,
   "id": "101d979c-fd08-4036-b6e4-de3f74ef2ad5",
   "metadata": {},
   "outputs": [
    {
     "data": {
      "text/html": [
       "<div>\n",
       "<style scoped>\n",
       "    .dataframe tbody tr th:only-of-type {\n",
       "        vertical-align: middle;\n",
       "    }\n",
       "\n",
       "    .dataframe tbody tr th {\n",
       "        vertical-align: top;\n",
       "    }\n",
       "\n",
       "    .dataframe thead th {\n",
       "        text-align: right;\n",
       "    }\n",
       "</style>\n",
       "<table border=\"1\" class=\"dataframe\">\n",
       "  <thead>\n",
       "    <tr style=\"text-align: right;\">\n",
       "      <th></th>\n",
       "      <th>Close</th>\n",
       "    </tr>\n",
       "  </thead>\n",
       "  <tbody>\n",
       "    <tr>\n",
       "      <th>5858</th>\n",
       "      <td>15.349643</td>\n",
       "    </tr>\n",
       "    <tr>\n",
       "      <th>5859</th>\n",
       "      <td>15.428214</td>\n",
       "    </tr>\n",
       "    <tr>\n",
       "      <th>5860</th>\n",
       "      <td>15.275714</td>\n",
       "    </tr>\n",
       "    <tr>\n",
       "      <th>5861</th>\n",
       "      <td>15.114286</td>\n",
       "    </tr>\n",
       "    <tr>\n",
       "      <th>5862</th>\n",
       "      <td>15.221786</td>\n",
       "    </tr>\n",
       "  </tbody>\n",
       "</table>\n",
       "</div>"
      ],
      "text/plain": [
       "          Close\n",
       "5858  15.349643\n",
       "5859  15.428214\n",
       "5860  15.275714\n",
       "5861  15.114286\n",
       "5862  15.221786"
      ]
     },
     "execution_count": 42,
     "metadata": {},
     "output_type": "execute_result"
    }
   ],
   "source": [
    "data_testing.head()"
   ]
  },
  {
   "cell_type": "code",
   "execution_count": 43,
   "id": "fc17da9a-e600-4b29-b9e6-c4d79734c6bb",
   "metadata": {},
   "outputs": [
    {
     "data": {
      "text/html": [
       "<div>\n",
       "<style scoped>\n",
       "    .dataframe tbody tr th:only-of-type {\n",
       "        vertical-align: middle;\n",
       "    }\n",
       "\n",
       "    .dataframe tbody tr th {\n",
       "        vertical-align: top;\n",
       "    }\n",
       "\n",
       "    .dataframe thead th {\n",
       "        text-align: right;\n",
       "    }\n",
       "</style>\n",
       "<table border=\"1\" class=\"dataframe\">\n",
       "  <thead>\n",
       "    <tr style=\"text-align: right;\">\n",
       "      <th></th>\n",
       "      <th>Close</th>\n",
       "    </tr>\n",
       "  </thead>\n",
       "  <tbody>\n",
       "    <tr>\n",
       "      <th>5758</th>\n",
       "      <td>20.879286</td>\n",
       "    </tr>\n",
       "    <tr>\n",
       "      <th>5759</th>\n",
       "      <td>20.816071</td>\n",
       "    </tr>\n",
       "    <tr>\n",
       "      <th>5760</th>\n",
       "      <td>19.928572</td>\n",
       "    </tr>\n",
       "    <tr>\n",
       "      <th>5761</th>\n",
       "      <td>19.205357</td>\n",
       "    </tr>\n",
       "    <tr>\n",
       "      <th>5762</th>\n",
       "      <td>19.537857</td>\n",
       "    </tr>\n",
       "    <tr>\n",
       "      <th>...</th>\n",
       "      <td>...</td>\n",
       "    </tr>\n",
       "    <tr>\n",
       "      <th>5853</th>\n",
       "      <td>16.556429</td>\n",
       "    </tr>\n",
       "    <tr>\n",
       "      <th>5854</th>\n",
       "      <td>16.469286</td>\n",
       "    </tr>\n",
       "    <tr>\n",
       "      <th>5855</th>\n",
       "      <td>16.145714</td>\n",
       "    </tr>\n",
       "    <tr>\n",
       "      <th>5856</th>\n",
       "      <td>15.809286</td>\n",
       "    </tr>\n",
       "    <tr>\n",
       "      <th>5857</th>\n",
       "      <td>15.318214</td>\n",
       "    </tr>\n",
       "  </tbody>\n",
       "</table>\n",
       "<p>100 rows × 1 columns</p>\n",
       "</div>"
      ],
      "text/plain": [
       "          Close\n",
       "5758  20.879286\n",
       "5759  20.816071\n",
       "5760  19.928572\n",
       "5761  19.205357\n",
       "5762  19.537857\n",
       "...         ...\n",
       "5853  16.556429\n",
       "5854  16.469286\n",
       "5855  16.145714\n",
       "5856  15.809286\n",
       "5857  15.318214\n",
       "\n",
       "[100 rows x 1 columns]"
      ]
     },
     "execution_count": 43,
     "metadata": {},
     "output_type": "execute_result"
    }
   ],
   "source": [
    "data_training.tail(100)"
   ]
  },
  {
   "cell_type": "code",
   "execution_count": 44,
   "id": "447f7911-d72b-4f9e-9c12-183cd0b931e9",
   "metadata": {},
   "outputs": [],
   "source": [
    "past_100_days = data_training.tail(100)"
   ]
  },
  {
   "cell_type": "code",
   "execution_count": 45,
   "id": "d026b368-ce1d-4ca2-9c58-925301b02e8b",
   "metadata": {},
   "outputs": [],
   "source": [
    "final_df = pd.concat([past_100_days, data_testing], ignore_index=True)"
   ]
  },
  {
   "cell_type": "code",
   "execution_count": 46,
   "id": "8e5e6d25-80ab-4a16-97ec-dd6732b5f033",
   "metadata": {},
   "outputs": [
    {
     "data": {
      "text/html": [
       "<div>\n",
       "<style scoped>\n",
       "    .dataframe tbody tr th:only-of-type {\n",
       "        vertical-align: middle;\n",
       "    }\n",
       "\n",
       "    .dataframe tbody tr th {\n",
       "        vertical-align: top;\n",
       "    }\n",
       "\n",
       "    .dataframe thead th {\n",
       "        text-align: right;\n",
       "    }\n",
       "</style>\n",
       "<table border=\"1\" class=\"dataframe\">\n",
       "  <thead>\n",
       "    <tr style=\"text-align: right;\">\n",
       "      <th></th>\n",
       "      <th>Close</th>\n",
       "    </tr>\n",
       "  </thead>\n",
       "  <tbody>\n",
       "    <tr>\n",
       "      <th>0</th>\n",
       "      <td>20.879286</td>\n",
       "    </tr>\n",
       "    <tr>\n",
       "      <th>1</th>\n",
       "      <td>20.816071</td>\n",
       "    </tr>\n",
       "    <tr>\n",
       "      <th>2</th>\n",
       "      <td>19.928572</td>\n",
       "    </tr>\n",
       "    <tr>\n",
       "      <th>3</th>\n",
       "      <td>19.205357</td>\n",
       "    </tr>\n",
       "    <tr>\n",
       "      <th>4</th>\n",
       "      <td>19.537857</td>\n",
       "    </tr>\n",
       "  </tbody>\n",
       "</table>\n",
       "</div>"
      ],
      "text/plain": [
       "       Close\n",
       "0  20.879286\n",
       "1  20.816071\n",
       "2  19.928572\n",
       "3  19.205357\n",
       "4  19.537857"
      ]
     },
     "execution_count": 46,
     "metadata": {},
     "output_type": "execute_result"
    }
   ],
   "source": [
    "final_df.head()"
   ]
  },
  {
   "cell_type": "code",
   "execution_count": 47,
   "id": "cc201e8a-db30-4865-b789-9fd923bf5c5f",
   "metadata": {},
   "outputs": [
    {
     "data": {
      "text/plain": [
       "array([[0.05647421],\n",
       "       [0.05595918],\n",
       "       [0.04872861],\n",
       "       ...,\n",
       "       [1.        ],\n",
       "       [0.98517215],\n",
       "       [0.97580299]])"
      ]
     },
     "execution_count": 47,
     "metadata": {},
     "output_type": "execute_result"
    }
   ],
   "source": [
    "input_data = scaler.fit_transform(final_df)\n",
    "input_data"
   ]
  },
  {
   "cell_type": "code",
   "execution_count": 48,
   "id": "1c6646a7-ec19-4a4d-b736-b778fbdaafb7",
   "metadata": {},
   "outputs": [
    {
     "data": {
      "text/plain": [
       "(2053, 1)"
      ]
     },
     "execution_count": 48,
     "metadata": {},
     "output_type": "execute_result"
    }
   ],
   "source": [
    "input_data.shape"
   ]
  },
  {
   "cell_type": "code",
   "execution_count": 49,
   "id": "997566d1-3a59-4fdd-8154-f34baf18cd37",
   "metadata": {},
   "outputs": [],
   "source": [
    "x_test = []\n",
    "y_test = []\n",
    "\n",
    "for i in range(100, input_data.shape[0]):\n",
    "    x_test.append(input_data[i-100:i])\n",
    "    y_test.append(input_data[i, 0])"
   ]
  },
  {
   "cell_type": "code",
   "execution_count": 50,
   "id": "56bdaa3a-5a18-4544-b009-f77e4818b0fd",
   "metadata": {},
   "outputs": [
    {
     "name": "stdout",
     "output_type": "stream",
     "text": [
      "(1953, 100, 1)\n",
      "(1953,)\n"
     ]
    }
   ],
   "source": [
    "x_test, y_test = np.array(x_test), np.array(y_test)\n",
    "print(x_test.shape)\n",
    "print(y_test.shape)"
   ]
  },
  {
   "cell_type": "code",
   "execution_count": 51,
   "id": "3ff94316-367a-4eb6-a3bc-5642ca02a9ba",
   "metadata": {},
   "outputs": [
    {
     "name": "stdout",
     "output_type": "stream",
     "text": [
      "62/62 [==============================] - 20s 81ms/step\n"
     ]
    }
   ],
   "source": [
    "# Making predictions\n",
    "\n",
    "y_predicted = model.predict(x_test)"
   ]
  },
  {
   "cell_type": "code",
   "execution_count": 52,
   "id": "225518bc-0d65-42c0-af5e-795efada26bb",
   "metadata": {},
   "outputs": [
    {
     "data": {
      "text/plain": [
       "(1953, 1)"
      ]
     },
     "execution_count": 52,
     "metadata": {},
     "output_type": "execute_result"
    }
   ],
   "source": [
    "y_predicted.shape"
   ]
  },
  {
   "cell_type": "code",
   "execution_count": 53,
   "id": "09d7ca2f-2e77-4bd0-8d58-0b2c802723e6",
   "metadata": {},
   "outputs": [
    {
     "data": {
      "text/plain": [
       "array([0.01142345, 0.01206358, 0.01082114, ..., 1.        , 0.98517215,\n",
       "       0.97580299])"
      ]
     },
     "execution_count": 53,
     "metadata": {},
     "output_type": "execute_result"
    }
   ],
   "source": [
    "y_test"
   ]
  },
  {
   "cell_type": "code",
   "execution_count": 54,
   "id": "64c7f1f3-35d7-4df6-9408-eca6d345c5f7",
   "metadata": {},
   "outputs": [
    {
     "data": {
      "text/plain": [
       "array([[0.02125596],\n",
       "       [0.0213355 ],\n",
       "       [0.02140848],\n",
       "       ...,\n",
       "       [0.8854673 ],\n",
       "       [0.89268243],\n",
       "       [0.9002129 ]], dtype=float32)"
      ]
     },
     "execution_count": 54,
     "metadata": {},
     "output_type": "execute_result"
    }
   ],
   "source": [
    "y_predicted"
   ]
  },
  {
   "cell_type": "code",
   "execution_count": 55,
   "id": "8d553e9f-eca8-4653-becc-e9673c657a9b",
   "metadata": {},
   "outputs": [
    {
     "data": {
      "text/plain": [
       "array([0.00814714])"
      ]
     },
     "execution_count": 55,
     "metadata": {},
     "output_type": "execute_result"
    }
   ],
   "source": [
    "scaler.scale_"
   ]
  },
  {
   "cell_type": "code",
   "execution_count": 56,
   "id": "abbf7c5f-2c9d-4d96-aa78-53d13debf39f",
   "metadata": {},
   "outputs": [],
   "source": [
    "scale_factor = 1/0.00814714\n",
    "y_predicted = y_predicted * scale_factor\n",
    "y_test = y_test * scale_factor"
   ]
  },
  {
   "cell_type": "code",
   "execution_count": 57,
   "id": "fbebb647-bae3-44e8-906e-c09c9ca09059",
   "metadata": {},
   "outputs": [
    {
     "data": {
      "text/plain": [
       "array([  1.40214203,   1.48071333,   1.32821323, ..., 122.74245932,\n",
       "       120.92245263, 119.77245913])"
      ]
     },
     "execution_count": 57,
     "metadata": {},
     "output_type": "execute_result"
    }
   ],
   "source": [
    "y_test"
   ]
  },
  {
   "cell_type": "code",
   "execution_count": 59,
   "id": "3bedc243-4f08-4281-b09f-68a4e0a13346",
   "metadata": {},
   "outputs": [
    {
     "data": {
      "image/png": "[encoded data removed]",
      "text/plain": [
       "<Figure size 1200x600 with 1 Axes>"
      ]
     },
     "metadata": {},
     "output_type": "display_data"
    }
   ],
   "source": [
    "plt.figure(figsize=(12,6))\n",
    "plt.plot(y_test, 'b', label = 'Original Price')\n",
    "plt.plot(y_predicted, 'r', label = 'Predicted Price')\n",
    "plt.xlabel('Time')\n",
    "plt.ylabel('Price')\n",
    "plt.legend()\n",
    "plt.show()"
   ]
  },
  {
   "cell_type": "code",
   "execution_count": null,
   "id": "4197189a-faef-4768-982c-343c77893aa5",
   "metadata": {},
   "outputs": [],
   "source": []
  }
 ],
 "metadata": {
  "kernelspec": {
   "display_name": "Python 3 (ipykernel)",
   "language": "python",
   "name": "python3"
  },
  "language_info": {
   "codemirror_mode": {
    "name": "ipython",
    "version": 3
   },
   "file_extension": ".py",
   "mimetype": "text/x-python",
   "name": "python",
   "nbconvert_exporter": "python",
   "pygments_lexer": "ipython3",
   "version": "3.11.3"
  }
 },
 "nbformat": 4,
 "nbformat_minor": 5
}
